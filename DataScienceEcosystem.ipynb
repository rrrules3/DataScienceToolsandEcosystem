{
 "cells": [
  {
   "cell_type": "markdown",
   "id": "23234384-9607-401a-82b9-034ab1d67c23",
   "metadata": {},
   "source": [
    "# Data Science Tools and Ecosystem"
   ]
  },
  {
   "cell_type": "markdown",
   "id": "f26624ea-fb26-44ac-ba7a-c59ee9732db4",
   "metadata": {},
   "source": [
    "In this notebook, Data Science Tools and Ecosystem are summarized."
   ]
  },
  {
   "cell_type": "markdown",
   "id": "179edf53-babe-4697-9fec-cf3b6318e1d1",
   "metadata": {},
   "source": [
    "**Objectives:**\n",
    "1. List Popular Languages for Data Science\n",
    "2. List common libraries used in Data Science\n",
    "3. List different Data Science Tools\n",
    "4. Conduct basic arithmetic in Python"
   ]
  },
  {
   "cell_type": "markdown",
   "id": "361d5cf4-4b09-4d79-8614-698dcb5da9d5",
   "metadata": {},
   "source": [
    "Some of the popular languages that Data Scientists use are:"
   ]
  },
  {
   "cell_type": "markdown",
   "id": "cc0ef639-af83-4a36-a477-08b864f84988",
   "metadata": {},
   "source": [
    "1. Python\n",
    "2. SQL\n",
    "3. C"
   ]
  },
  {
   "cell_type": "markdown",
   "id": "df55fb03-8cab-4746-8c47-841a1c1c5f2c",
   "metadata": {},
   "source": [
    "Some of the commonly used libraries used by Data Scientists include:"
   ]
  },
  {
   "cell_type": "markdown",
   "id": "949d387c-fa45-44db-a746-f149c30e9c23",
   "metadata": {},
   "source": [
    "1. NumPy\n",
    "2. Pandas\n",
    "3. MatplotLib"
   ]
  },
  {
   "cell_type": "markdown",
   "id": "fd80990a-e6de-4526-b7e6-5d750f8450f5",
   "metadata": {},
   "source": [
    "| Data Science Tools |\n",
    "|:--------:|\n",
    "|  R studio   |\n",
    "|  Github  |\n",
    "|  Jupyter Notebooks  |"
   ]
  },
  {
   "cell_type": "markdown",
   "id": "91e1f561-8621-46dd-87d9-8a9eb5e97b37",
   "metadata": {
    "tags": []
   },
   "source": [
    "### Below are a few examples of evaluating arithmetic expressions in Python"
   ]
  },
  {
   "cell_type": "code",
   "execution_count": 4,
   "id": "ba942ea9-0f57-4dd3-801c-1f14057d02d0",
   "metadata": {
    "tags": []
   },
   "outputs": [
    {
     "data": {
      "text/plain": [
       "17"
      ]
     },
     "execution_count": 4,
     "metadata": {},
     "output_type": "execute_result"
    }
   ],
   "source": [
    "#This a simple arithmetic expression to mutiply then add integers \n",
    "(3*4)+5"
   ]
  },
  {
   "cell_type": "code",
   "execution_count": 7,
   "id": "0682ac14-a5d2-4160-bf9a-9a76be913a02",
   "metadata": {
    "tags": []
   },
   "outputs": [
    {
     "name": "stdout",
     "output_type": "stream",
     "text": [
      "3\n"
     ]
    }
   ],
   "source": [
    "#This will convert 200 minutes to hours by dividing by 60\n",
    "minutes = 200\n",
    "hours = minutes//60\n",
    "print(hours)"
   ]
  },
  {
   "cell_type": "markdown",
   "id": "555b6bad-d2a1-423e-863c-04e4f8f04cc5",
   "metadata": {},
   "source": [
    "## Author\n",
    "Rohan Rajesh"
   ]
  }
 ],
 "metadata": {
  "kernelspec": {
   "display_name": "Python",
   "language": "python",
   "name": "conda-env-python-py"
  },
  "language_info": {
   "codemirror_mode": {
    "name": "ipython",
    "version": 3
   },
   "file_extension": ".py",
   "mimetype": "text/x-python",
   "name": "python",
   "nbconvert_exporter": "python",
   "pygments_lexer": "ipython3",
   "version": "3.7.12"
  }
 },
 "nbformat": 4,
 "nbformat_minor": 5
}
